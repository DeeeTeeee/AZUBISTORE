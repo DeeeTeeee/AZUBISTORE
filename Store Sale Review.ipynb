{
 "cells": [
  {
   "attachments": {},
   "cell_type": "markdown",
   "id": "97ddfd26",
   "metadata": {},
   "source": [
    "# Store Sales Review\n",
    "##  Azubi Store\n",
    "### By: David Anifowoshe\n",
    "\n",
    "\n"
   ]
  },
  {
   "cell_type": "markdown",
   "id": "03391aab",
   "metadata": {},
   "source": [
    "Azubi store has products that customers love. Below are the products, prices and the number of customers that patronize each product last week.\n",
    "\n",
    "The owner wants us to do some analysis on data with these criteria's:\n",
    "\n",
    "    -calculate the total price average for all products\n",
    "\n",
    "    -create a new price list that reduces the old prices by GHC5\n",
    "\n",
    "    -calculate the total revenue generated from the products\n",
    "\n",
    "    -calculate the average daily revenue generated from the products\n",
    "\n",
    "    -based on the new prices, which products are less than GHC30"
   ]
  },
  {
   "cell_type": "code",
   "execution_count": 2,
   "id": "1b8bde8f",
   "metadata": {},
   "outputs": [],
   "source": [
    "products = [\"Sankofa Foods\", \"Jamestown Coffee\", \"Bioko Chocolate\", \"Blue Skies Ice Cream\", \"Fair Afric Chocolate\",\n",
    "            \"Kawa Moka Coffee\", \"Aphro Spirit\", \"Mensado Bissap\", \"Voltic\"]"
   ]
  },
  {
   "cell_type": "code",
   "execution_count": 3,
   "id": "e9247d2d",
   "metadata": {},
   "outputs": [],
   "source": [
    "prices = [30, 25, 40, 20, 20, 35, 45, 50, 35]"
   ]
  },
  {
   "cell_type": "code",
   "execution_count": 16,
   "id": "1e00cef9",
   "metadata": {},
   "outputs": [],
   "source": [
    "no_customer_last_wk = [2, 3, 5, 8, 4, 4, 6, 2, 9]"
   ]
  },
  {
   "cell_type": "code",
   "execution_count": 31,
   "id": "8f61ae11",
   "metadata": {},
   "outputs": [
    {
     "name": "stdout",
     "output_type": "stream",
     "text": [
      "The total price average for all products is Ghc33.33\n"
     ]
    }
   ],
   "source": [
    "#calculate the total price average for all products\n",
    "\n",
    "#calculating the total price\n",
    "total_prices = 0\n",
    "\n",
    "for i in prices:\n",
    "    total_prices = total_prices + i\n",
    "#print(total_prices)\n",
    "\n",
    "#Count elements in the prices\n",
    "n = len(prices)\n",
    "#print(n)\n",
    "\n",
    "#Calculating the total price avg for products\n",
    "total_price_average = round(total_prices/n,2)\n",
    "\n",
    "print(f'The total price average for all products is Ghc{total_price_average}')"
   ]
  },
  {
   "cell_type": "code",
   "execution_count": 45,
   "id": "bcba59a7",
   "metadata": {},
   "outputs": [
    {
     "name": "stdout",
     "output_type": "stream",
     "text": [
      "The new price list is Ghc[25, 20, 35, 15, 15, 30, 40, 45, 30]\n"
     ]
    }
   ],
   "source": [
    "#create a new price list that reduces the old prices by GHC5\n",
    "\n",
    "#we create  an empty list and a contstant 5 that we will subtract from all elements in the prices list\n",
    "new_prices = []\n",
    "const = 5\n",
    "\n",
    "#create a new list that takes elements from the old \n",
    "#minus 5 from each elemnent:\n",
    "\n",
    "for i in range (len(prices)):\n",
    "    np = prices[i] - const \n",
    "    new_prices.append(np)\n",
    "print (f'The new price list is Ghc{new_prices}')\n",
    "\n",
    "\n",
    "#Catalogue = {tuple(products):tuple(new_prices)}\n",
    "#print(Catalogue)"
   ]
  },
  {
   "cell_type": "code",
   "execution_count": 63,
   "id": "8b1a265f",
   "metadata": {},
   "outputs": [
    {
     "name": "stdout",
     "output_type": "stream",
     "text": [
      "[60, 75, 200, 160, 80, 140, 270, 100, 315]\n",
      "The total revenue generated from the product is Ghc1400\n"
     ]
    }
   ],
   "source": [
    "#calculate the total revenue generated from the products\n",
    "\n",
    "#create a new list\n",
    "revenue =[]\n",
    "#we are using for loop to calculate elements in the lists\n",
    "for i in range (len(prices)):\n",
    "    rev = no_customer_last_wk [i] * prices[i]\n",
    "    rev1 = 0\n",
    "    rev1 = rev1 + rev\n",
    "    revenue.append(rev1)\n",
    "print(revenue)\n",
    "\n",
    "print(f'The total revenue generated from the product is Ghc{sum(revenue)}')\n",
    "\n"
   ]
  },
  {
   "cell_type": "code",
   "execution_count": 69,
   "id": "9edb3faa",
   "metadata": {},
   "outputs": [
    {
     "name": "stdout",
     "output_type": "stream",
     "text": [
      "1400\n",
      "The average daily revenue generated from the product is Ghc200.0\n"
     ]
    }
   ],
   "source": [
    "#calculate the average daily revenue generated from the product\n",
    "\n",
    "#we divide the total revenue by 7 days in a week\n",
    "total_weekly_rev = sum(revenue)\n",
    "print(total_weekly_rev)\n",
    "avg_daily_rev = total_weekly_rev/7\n",
    "print(f'The average daily revenue generated from the product is Ghc{avg_daily_rev}')\n"
   ]
  },
  {
   "cell_type": "code",
   "execution_count": 172,
   "id": "e751fca0",
   "metadata": {
    "scrolled": true
   },
   "outputs": [
    {
     "name": "stdout",
     "output_type": "stream",
     "text": [
      "{'Sankofa Foods': 25, 'Jamestown Coffee': 20, 'Bioko Chocolate': 35, 'Blue Skies Ice Cream': 15, 'Fair Afric Chocolate': 15, 'Kawa Moka Coffee': 30, 'Aphro Spirit': 40, 'Mensado Bissap': 45, 'Voltic': 30}\n"
     ]
    }
   ],
   "source": [
    "cat1 = dict(zip(products, new_prices))\n",
    "print (cat1)"
   ]
  },
  {
   "cell_type": "code",
   "execution_count": 173,
   "id": "d6e620fc",
   "metadata": {},
   "outputs": [
    {
     "name": "stdout",
     "output_type": "stream",
     "text": [
      "Based on the new prices, the products that are less than GHC30 are:\n",
      "{'Sankofa Foods': 25, 'Jamestown Coffee': 20, 'Blue Skies Ice Cream': 15, 'Fair Afric Chocolate': 15}\n"
     ]
    }
   ],
   "source": [
    "#based on the new prices, which products are less than GHC30\n",
    "\n",
    "#catalogue  #dict(zip(new_prices,products))\n",
    "\n",
    "newCat = dict()\n",
    "\n",
    "for key, value in cat1.items():\n",
    "    if value < 30:\n",
    "        newCat[key] = value\n",
    "\n",
    "print(f'Based on the new prices, the products that are less than GHC30 are:\\n{newCat}')\n",
    "#print(catalogue)"
   ]
  }
 ],
 "metadata": {
  "kernelspec": {
   "display_name": "Python 3 (ipykernel)",
   "language": "python",
   "name": "python3"
  },
  "language_info": {
   "codemirror_mode": {
    "name": "ipython",
    "version": 3
   },
   "file_extension": ".py",
   "mimetype": "text/x-python",
   "name": "python",
   "nbconvert_exporter": "python",
   "pygments_lexer": "ipython3",
   "version": "3.9.7"
  }
 },
 "nbformat": 4,
 "nbformat_minor": 5
}
